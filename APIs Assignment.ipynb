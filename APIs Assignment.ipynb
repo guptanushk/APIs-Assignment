{
 "cells": [
  {
   "cell_type": "markdown",
   "id": "cedb6a83-ab23-441c-ae2c-12831fb1f295",
   "metadata": {},
   "source": [
    "Q1. What is an API? Give an example, where an API is used in real life."
   ]
  },
  {
   "cell_type": "markdown",
   "id": "92042625-a6e8-400e-8ad5-ba8c15d27288",
   "metadata": {},
   "source": [
    "Answer : APIs are used in web applications to connect user-facing front ends with critical back-end functionality and data. APIs are used to deliver material by streaming services such as Spotify and Netflix. APIs are used by automakers such as Tesla to provide software upgrades."
   ]
  },
  {
   "cell_type": "markdown",
   "id": "1637a625-df8e-45cb-82aa-0cca8d2878a2",
   "metadata": {},
   "source": [
    "Q2. Give advantages and disadvantages of using API."
   ]
  },
  {
   "cell_type": "markdown",
   "id": "dbf89f6a-a75e-4ec6-9b93-7263e580bcae",
   "metadata": {},
   "source": [
    "Answer : \n",
    "Advantages of APIs are :\n",
    "1.Increased Interoperability\n",
    "2.Improved Efficiency\n",
    "3.Better User Experience\n",
    "4.Increased Flexibility\n",
    "5.New Revenue Streams\n",
    "\n",
    "Disadvantages of APIs are :\n",
    "1.Security concerns\n",
    "2.Complexity\n",
    "3.Compatibility Issue\n",
    "4.Dependency on Third Party Developers\n",
    "5.Governance and Management"
   ]
  },
  {
   "cell_type": "markdown",
   "id": "e2947ebb-2a0d-47ef-95cf-3ca445e87f0e",
   "metadata": {},
   "source": [
    "Q3. What is a Web API? Differentiate between API and Web API."
   ]
  },
  {
   "cell_type": "markdown",
   "id": "78d94fcf-f273-4026-a4b5-7c96f87941d8",
   "metadata": {},
   "source": [
    "Answer :  APIs are used in web applications to connect user-facing front ends with critical back-end functionality and data. APIs are used to deliver material by streaming services such as Spotify and Netflix.\n",
    "\n",
    "Both APIs and web services are technologies that enable the transfer of data between separate software applications. API is an interface that exposes an application's data to outside software, whereas web applications are one type of API with stricter requirements."
   ]
  },
  {
   "cell_type": "markdown",
   "id": "9ba6ac26-8ddc-4c0d-94cf-ed0505463968",
   "metadata": {},
   "source": [
    "Q4. Explain REST and SOAP Architecture. Mention shortcomings of SOAP."
   ]
  },
  {
   "cell_type": "markdown",
   "id": "cd147a10-50ec-4693-85c2-6ed5a198835e",
   "metadata": {},
   "source": [
    "Answer : REST (Representational State Transfer) is truly a “web services” API. REST APIs are based on URIs (Uniform Resource Identifier, of which a URL is a specific type) and the HTTP protocol and use JSON for a data format, which is super browser-compatible.\n",
    "\n",
    "SOAP (Simple Object Access Protocol) is its own protocol and is a bit more complex by defining more standards than REST—things like security and how messages are sent. These built-in standards do carry a bit more overhead. Still, they can be a deciding factor for organizations that require more comprehensive features in the way of security, transactions, and ACID (Atomicity, Consistency, Isolation, Durability) compliance. \n",
    "\n",
    "SOAP requires more bandwidth, whereas REST requires fewer resources (depending on the API)"
   ]
  },
  {
   "cell_type": "markdown",
   "id": "6f403dd8-a02d-4310-b2d1-94f0d74de4c2",
   "metadata": {},
   "source": [
    "Q5. Differentiate between REST and SOAP."
   ]
  },
  {
   "cell_type": "markdown",
   "id": "f09907f5-4fe4-431f-ad66-31d3de979840",
   "metadata": {},
   "source": [
    "Answer : Differentiating REST and SOAP :\n",
    "\n",
    "1.SOAP stands for Simple Object Access Protocol and REST stands for Representational State Transfer.\n",
    "\n",
    "2.SOAP is difficult to implement and it requires more bandwidth whereas REST is easy to implement and requires less bandwidth such as smartphones.\n",
    "\n",
    "3.Benefits of SOAP over REST as SOAP has ACID compliance transaction. Some of the applications require transaction ability which is accepted by SOAP whereas REST lacks in it.\n",
    "\n",
    "4.SOAP cannot make use of REST since SOAP is a protocol without any architectural pattern. REST can make use of SOAP because it is an architectural pattern having protocol."
   ]
  },
  {
   "cell_type": "code",
   "execution_count": null,
   "id": "1aa35d89-6f4d-48c1-b32d-671226c02caf",
   "metadata": {},
   "outputs": [],
   "source": []
  }
 ],
 "metadata": {
  "kernelspec": {
   "display_name": "Python 3 (ipykernel)",
   "language": "python",
   "name": "python3"
  },
  "language_info": {
   "codemirror_mode": {
    "name": "ipython",
    "version": 3
   },
   "file_extension": ".py",
   "mimetype": "text/x-python",
   "name": "python",
   "nbconvert_exporter": "python",
   "pygments_lexer": "ipython3",
   "version": "3.10.8"
  }
 },
 "nbformat": 4,
 "nbformat_minor": 5
}
